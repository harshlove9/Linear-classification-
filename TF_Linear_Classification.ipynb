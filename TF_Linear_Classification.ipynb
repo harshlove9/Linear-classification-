{
  "nbformat": 4,
  "nbformat_minor": 0,
  "metadata": {
    "colab": {
      "name": "TF Linear_Classification.ipynb",
      "provenance": [],
      "collapsed_sections": [],
      "authorship_tag": "ABX9TyMk6Iq5M5ZlCUE8mJhwSjgq"
    },
    "kernelspec": {
      "name": "python3",
      "display_name": "Python 3"
    }
  },
  "cells": [
    {
      "cell_type": "code",
      "metadata": {
        "id": "lBv5ztq7FaUV",
        "colab_type": "code",
        "outputId": "4385d49e-eb6f-47b9-bf7f-25a420aefdf4",
        "colab": {
          "base_uri": "https://localhost:8080/",
          "height": 34
        }
      },
      "source": [
        "import tensorflow as tf\n",
        "print(tf.__version__)\n"
      ],
      "execution_count": 0,
      "outputs": [
        {
          "output_type": "stream",
          "text": [
            "2.2.0-rc3\n"
          ],
          "name": "stdout"
        }
      ]
    },
    {
      "cell_type": "code",
      "metadata": {
        "id": "pmv40lQNdwLS",
        "colab_type": "code",
        "colab": {}
      },
      "source": [
        ""
      ],
      "execution_count": 0,
      "outputs": []
    },
    {
      "cell_type": "code",
      "metadata": {
        "id": "y0w3MseMGTa4",
        "colab_type": "code",
        "colab": {}
      },
      "source": [
        "from sklearn.datasets import load_breast_cancer"
      ],
      "execution_count": 0,
      "outputs": []
    },
    {
      "cell_type": "code",
      "metadata": {
        "id": "wpnVPpsvGdoD",
        "colab_type": "code",
        "colab": {}
      },
      "source": [
        "data=load_breast_cancer()"
      ],
      "execution_count": 0,
      "outputs": []
    },
    {
      "cell_type": "code",
      "metadata": {
        "id": "OCpS6JRXGkFE",
        "colab_type": "code",
        "outputId": "6d4492f1-e932-4e34-f4f4-0ef329a34856",
        "colab": {
          "base_uri": "https://localhost:8080/",
          "height": 34
        }
      },
      "source": [
        "type(data)"
      ],
      "execution_count": 0,
      "outputs": [
        {
          "output_type": "execute_result",
          "data": {
            "text/plain": [
              "sklearn.utils.Bunch"
            ]
          },
          "metadata": {
            "tags": []
          },
          "execution_count": 8
        }
      ]
    },
    {
      "cell_type": "code",
      "metadata": {
        "id": "H2qy0lGXGw_Y",
        "colab_type": "code",
        "outputId": "ddfe3e06-437d-4a0d-e091-4b14745f2450",
        "colab": {
          "base_uri": "https://localhost:8080/",
          "height": 34
        }
      },
      "source": [
        "data.keys()"
      ],
      "execution_count": 0,
      "outputs": [
        {
          "output_type": "execute_result",
          "data": {
            "text/plain": [
              "dict_keys(['data', 'target', 'target_names', 'DESCR', 'feature_names', 'filename'])"
            ]
          },
          "metadata": {
            "tags": []
          },
          "execution_count": 9
        }
      ]
    },
    {
      "cell_type": "code",
      "metadata": {
        "id": "c3VeDjtJG673",
        "colab_type": "code",
        "outputId": "f557075c-5d95-4ed6-8696-296d710f4edd",
        "colab": {
          "base_uri": "https://localhost:8080/",
          "height": 34
        }
      },
      "source": [
        "data.data.shape"
      ],
      "execution_count": 0,
      "outputs": [
        {
          "output_type": "execute_result",
          "data": {
            "text/plain": [
              "(569, 30)"
            ]
          },
          "metadata": {
            "tags": []
          },
          "execution_count": 10
        }
      ]
    },
    {
      "cell_type": "code",
      "metadata": {
        "id": "VUfTns7zHFVA",
        "colab_type": "code",
        "outputId": "2db18e02-2eae-412b-c56d-be840a1c727e",
        "colab": {
          "base_uri": "https://localhost:8080/",
          "height": 459
        }
      },
      "source": [
        "data.target"
      ],
      "execution_count": 0,
      "outputs": [
        {
          "output_type": "execute_result",
          "data": {
            "text/plain": [
              "array([0, 0, 0, 0, 0, 0, 0, 0, 0, 0, 0, 0, 0, 0, 0, 0, 0, 0, 0, 1, 1, 1,\n",
              "       0, 0, 0, 0, 0, 0, 0, 0, 0, 0, 0, 0, 0, 0, 0, 1, 0, 0, 0, 0, 0, 0,\n",
              "       0, 0, 1, 0, 1, 1, 1, 1, 1, 0, 0, 1, 0, 0, 1, 1, 1, 1, 0, 1, 0, 0,\n",
              "       1, 1, 1, 1, 0, 1, 0, 0, 1, 0, 1, 0, 0, 1, 1, 1, 0, 0, 1, 0, 0, 0,\n",
              "       1, 1, 1, 0, 1, 1, 0, 0, 1, 1, 1, 0, 0, 1, 1, 1, 1, 0, 1, 1, 0, 1,\n",
              "       1, 1, 1, 1, 1, 1, 1, 0, 0, 0, 1, 0, 0, 1, 1, 1, 0, 0, 1, 0, 1, 0,\n",
              "       0, 1, 0, 0, 1, 1, 0, 1, 1, 0, 1, 1, 1, 1, 0, 1, 1, 1, 1, 1, 1, 1,\n",
              "       1, 1, 0, 1, 1, 1, 1, 0, 0, 1, 0, 1, 1, 0, 0, 1, 1, 0, 0, 1, 1, 1,\n",
              "       1, 0, 1, 1, 0, 0, 0, 1, 0, 1, 0, 1, 1, 1, 0, 1, 1, 0, 0, 1, 0, 0,\n",
              "       0, 0, 1, 0, 0, 0, 1, 0, 1, 0, 1, 1, 0, 1, 0, 0, 0, 0, 1, 1, 0, 0,\n",
              "       1, 1, 1, 0, 1, 1, 1, 1, 1, 0, 0, 1, 1, 0, 1, 1, 0, 0, 1, 0, 1, 1,\n",
              "       1, 1, 0, 1, 1, 1, 1, 1, 0, 1, 0, 0, 0, 0, 0, 0, 0, 0, 0, 0, 0, 0,\n",
              "       0, 0, 1, 1, 1, 1, 1, 1, 0, 1, 0, 1, 1, 0, 1, 1, 0, 1, 0, 0, 1, 1,\n",
              "       1, 1, 1, 1, 1, 1, 1, 1, 1, 1, 1, 0, 1, 1, 0, 1, 0, 1, 1, 1, 1, 1,\n",
              "       1, 1, 1, 1, 1, 1, 1, 1, 1, 0, 1, 1, 1, 0, 1, 0, 1, 1, 1, 1, 0, 0,\n",
              "       0, 1, 1, 1, 1, 0, 1, 0, 1, 0, 1, 1, 1, 0, 1, 1, 1, 1, 1, 1, 1, 0,\n",
              "       0, 0, 1, 1, 1, 1, 1, 1, 1, 1, 1, 1, 1, 0, 0, 1, 0, 0, 0, 1, 0, 0,\n",
              "       1, 1, 1, 1, 1, 0, 1, 1, 1, 1, 1, 0, 1, 1, 1, 0, 1, 1, 0, 0, 1, 1,\n",
              "       1, 1, 1, 1, 0, 1, 1, 1, 1, 1, 1, 1, 0, 1, 1, 1, 1, 1, 0, 1, 1, 0,\n",
              "       1, 1, 1, 1, 1, 1, 1, 1, 1, 1, 1, 1, 0, 1, 0, 0, 1, 0, 1, 1, 1, 1,\n",
              "       1, 0, 1, 1, 0, 1, 0, 1, 1, 0, 1, 0, 1, 1, 1, 1, 1, 1, 1, 1, 0, 0,\n",
              "       1, 1, 1, 1, 1, 1, 0, 1, 1, 1, 1, 1, 1, 1, 1, 1, 1, 0, 1, 1, 1, 1,\n",
              "       1, 1, 1, 0, 1, 0, 1, 1, 0, 1, 1, 1, 1, 1, 0, 0, 1, 0, 1, 0, 1, 1,\n",
              "       1, 1, 1, 0, 1, 1, 0, 1, 0, 1, 0, 0, 1, 1, 1, 0, 1, 1, 1, 1, 1, 1,\n",
              "       1, 1, 1, 1, 1, 0, 1, 0, 0, 1, 1, 1, 1, 1, 1, 1, 1, 1, 1, 1, 1, 1,\n",
              "       1, 1, 1, 1, 1, 1, 1, 1, 1, 1, 1, 1, 0, 0, 0, 0, 0, 0, 1])"
            ]
          },
          "metadata": {
            "tags": []
          },
          "execution_count": 11
        }
      ]
    },
    {
      "cell_type": "code",
      "metadata": {
        "id": "w6Z4YlxwHMEj",
        "colab_type": "code",
        "outputId": "dea327a6-be41-48d0-f7f9-1ec15bb66533",
        "colab": {
          "base_uri": "https://localhost:8080/",
          "height": 34
        }
      },
      "source": [
        "data.target_names"
      ],
      "execution_count": 0,
      "outputs": [
        {
          "output_type": "execute_result",
          "data": {
            "text/plain": [
              "array(['malignant', 'benign'], dtype='<U9')"
            ]
          },
          "metadata": {
            "tags": []
          },
          "execution_count": 12
        }
      ]
    },
    {
      "cell_type": "code",
      "metadata": {
        "id": "dfZIE6x0HPYr",
        "colab_type": "code",
        "outputId": "d38307d6-e34f-43b2-da47-7845b86b6a35",
        "colab": {
          "base_uri": "https://localhost:8080/",
          "height": 34
        }
      },
      "source": [
        "data.target.shape"
      ],
      "execution_count": 0,
      "outputs": [
        {
          "output_type": "execute_result",
          "data": {
            "text/plain": [
              "(569,)"
            ]
          },
          "metadata": {
            "tags": []
          },
          "execution_count": 13
        }
      ]
    },
    {
      "cell_type": "code",
      "metadata": {
        "id": "4YhmmlgYHYs_",
        "colab_type": "code",
        "outputId": "7607a3cc-936b-47da-d5cd-57b941927d27",
        "colab": {
          "base_uri": "https://localhost:8080/",
          "height": 187
        }
      },
      "source": [
        "data.feature_names"
      ],
      "execution_count": 0,
      "outputs": [
        {
          "output_type": "execute_result",
          "data": {
            "text/plain": [
              "array(['mean radius', 'mean texture', 'mean perimeter', 'mean area',\n",
              "       'mean smoothness', 'mean compactness', 'mean concavity',\n",
              "       'mean concave points', 'mean symmetry', 'mean fractal dimension',\n",
              "       'radius error', 'texture error', 'perimeter error', 'area error',\n",
              "       'smoothness error', 'compactness error', 'concavity error',\n",
              "       'concave points error', 'symmetry error',\n",
              "       'fractal dimension error', 'worst radius', 'worst texture',\n",
              "       'worst perimeter', 'worst area', 'worst smoothness',\n",
              "       'worst compactness', 'worst concavity', 'worst concave points',\n",
              "       'worst symmetry', 'worst fractal dimension'], dtype='<U23')"
            ]
          },
          "metadata": {
            "tags": []
          },
          "execution_count": 14
        }
      ]
    },
    {
      "cell_type": "code",
      "metadata": {
        "id": "T8oqyGWZHjx0",
        "colab_type": "code",
        "colab": {}
      },
      "source": [
        "# normally we would put all of our imports at the top\n",
        "# but this lets us tell a story\n",
        "from sklearn.model_selection import train_test_split\n",
        "\n",
        "\n",
        "# split the data into train and test sets\n",
        "# this lets us simulate how our model will perform in the future\n",
        "X_train, X_test, y_train, y_test = train_test_split(data.data, data.target, test_size=0.33)\n",
        "N, D = X_train.shape"
      ],
      "execution_count": 0,
      "outputs": []
    },
    {
      "cell_type": "code",
      "metadata": {
        "id": "lzgvHYKeJAZr",
        "colab_type": "code",
        "colab": {}
      },
      "source": [
        "from sklearn.preprocessing import StandardScaler"
      ],
      "execution_count": 0,
      "outputs": []
    },
    {
      "cell_type": "code",
      "metadata": {
        "id": "LJHnTC6oJkR8",
        "colab_type": "code",
        "colab": {}
      },
      "source": [
        "scaler=StandardScaler()\n",
        "X_train=scaler.fit_transform(X_train)\n",
        "X_test=scaler.fit_transform(X_test)"
      ],
      "execution_count": 0,
      "outputs": []
    },
    {
      "cell_type": "code",
      "metadata": {
        "id": "LXTeTNxDKPk-",
        "colab_type": "code",
        "outputId": "e5032fa0-4f4a-49f9-c392-61b0761064aa",
        "colab": {
          "base_uri": "https://localhost:8080/",
          "height": 1000
        }
      },
      "source": [
        "# Now all the fun Tensorflow stuff\n",
        "# Build the model\n",
        "\n",
        "model = tf.keras.models.Sequential([\n",
        "  tf.keras.layers.Input(shape=(D,)),\n",
        "  tf.keras.layers.Dense(1, activation='sigmoid')\n",
        "])\n",
        "\n",
        "# Alternatively, you can do:\n",
        "# model = tf.keras.models.Sequential()\n",
        "# model.add(tf.keras.layers.Dense(1, input_shape=(D,), activation='sigmoid'))\n",
        "\n",
        "model.compile(optimizer='adam',\n",
        "              loss='binary_crossentropy',\n",
        "              metrics=['accuracy'])\n",
        "\n",
        "\n",
        "# Train the model\n",
        "r = model.fit(X_train, y_train, validation_data=(X_test, y_test), epochs=100)\n",
        "\n",
        "\n",
        "# Evaluate the model - evaluate() returns loss and accuracy\n",
        "print(\"Train score:\", model.evaluate(X_train, y_train))\n",
        "print(\"Test score:\", model.evaluate(X_test, y_test))"
      ],
      "execution_count": 0,
      "outputs": [
        {
          "output_type": "stream",
          "text": [
            "Epoch 1/100\n",
            "12/12 [==============================] - 0s 15ms/step - loss: 0.6250 - accuracy: 0.6562 - val_loss: 0.6649 - val_accuracy: 0.6223\n",
            "Epoch 2/100\n",
            "12/12 [==============================] - 0s 4ms/step - loss: 0.5667 - accuracy: 0.6982 - val_loss: 0.6031 - val_accuracy: 0.6702\n",
            "Epoch 3/100\n",
            "12/12 [==============================] - 0s 4ms/step - loss: 0.5150 - accuracy: 0.7428 - val_loss: 0.5510 - val_accuracy: 0.7234\n",
            "Epoch 4/100\n",
            "12/12 [==============================] - 0s 4ms/step - loss: 0.4720 - accuracy: 0.7874 - val_loss: 0.5068 - val_accuracy: 0.7713\n",
            "Epoch 5/100\n",
            "12/12 [==============================] - 0s 4ms/step - loss: 0.4363 - accuracy: 0.8241 - val_loss: 0.4703 - val_accuracy: 0.7766\n",
            "Epoch 6/100\n",
            "12/12 [==============================] - 0s 4ms/step - loss: 0.4075 - accuracy: 0.8373 - val_loss: 0.4386 - val_accuracy: 0.7926\n",
            "Epoch 7/100\n",
            "12/12 [==============================] - 0s 4ms/step - loss: 0.3809 - accuracy: 0.8399 - val_loss: 0.4121 - val_accuracy: 0.8085\n",
            "Epoch 8/100\n",
            "12/12 [==============================] - 0s 4ms/step - loss: 0.3614 - accuracy: 0.8556 - val_loss: 0.3885 - val_accuracy: 0.8245\n",
            "Epoch 9/100\n",
            "12/12 [==============================] - 0s 4ms/step - loss: 0.3410 - accuracy: 0.8635 - val_loss: 0.3685 - val_accuracy: 0.8298\n",
            "Epoch 10/100\n",
            "12/12 [==============================] - 0s 4ms/step - loss: 0.3246 - accuracy: 0.8740 - val_loss: 0.3509 - val_accuracy: 0.8404\n",
            "Epoch 11/100\n",
            "12/12 [==============================] - 0s 4ms/step - loss: 0.3093 - accuracy: 0.8819 - val_loss: 0.3361 - val_accuracy: 0.8564\n",
            "Epoch 12/100\n",
            "12/12 [==============================] - 0s 5ms/step - loss: 0.2960 - accuracy: 0.8871 - val_loss: 0.3221 - val_accuracy: 0.8670\n",
            "Epoch 13/100\n",
            "12/12 [==============================] - 0s 4ms/step - loss: 0.2843 - accuracy: 0.8976 - val_loss: 0.3097 - val_accuracy: 0.8777\n",
            "Epoch 14/100\n",
            "12/12 [==============================] - 0s 4ms/step - loss: 0.2747 - accuracy: 0.9055 - val_loss: 0.2991 - val_accuracy: 0.8777\n",
            "Epoch 15/100\n",
            "12/12 [==============================] - 0s 4ms/step - loss: 0.2653 - accuracy: 0.9081 - val_loss: 0.2893 - val_accuracy: 0.8830\n",
            "Epoch 16/100\n",
            "12/12 [==============================] - 0s 4ms/step - loss: 0.2560 - accuracy: 0.9134 - val_loss: 0.2803 - val_accuracy: 0.8830\n",
            "Epoch 17/100\n",
            "12/12 [==============================] - 0s 4ms/step - loss: 0.2478 - accuracy: 0.9134 - val_loss: 0.2721 - val_accuracy: 0.8883\n",
            "Epoch 18/100\n",
            "12/12 [==============================] - 0s 4ms/step - loss: 0.2409 - accuracy: 0.9160 - val_loss: 0.2645 - val_accuracy: 0.8936\n",
            "Epoch 19/100\n",
            "12/12 [==============================] - 0s 4ms/step - loss: 0.2333 - accuracy: 0.9186 - val_loss: 0.2574 - val_accuracy: 0.8936\n",
            "Epoch 20/100\n",
            "12/12 [==============================] - 0s 4ms/step - loss: 0.2271 - accuracy: 0.9213 - val_loss: 0.2507 - val_accuracy: 0.8936\n",
            "Epoch 21/100\n",
            "12/12 [==============================] - 0s 4ms/step - loss: 0.2215 - accuracy: 0.9265 - val_loss: 0.2445 - val_accuracy: 0.8936\n",
            "Epoch 22/100\n",
            "12/12 [==============================] - 0s 4ms/step - loss: 0.2160 - accuracy: 0.9318 - val_loss: 0.2390 - val_accuracy: 0.8989\n",
            "Epoch 23/100\n",
            "12/12 [==============================] - 0s 4ms/step - loss: 0.2104 - accuracy: 0.9318 - val_loss: 0.2336 - val_accuracy: 0.8989\n",
            "Epoch 24/100\n",
            "12/12 [==============================] - 0s 4ms/step - loss: 0.2058 - accuracy: 0.9318 - val_loss: 0.2286 - val_accuracy: 0.8989\n",
            "Epoch 25/100\n",
            "12/12 [==============================] - 0s 4ms/step - loss: 0.2007 - accuracy: 0.9318 - val_loss: 0.2237 - val_accuracy: 0.8989\n",
            "Epoch 26/100\n",
            "12/12 [==============================] - 0s 4ms/step - loss: 0.1974 - accuracy: 0.9318 - val_loss: 0.2192 - val_accuracy: 0.9043\n",
            "Epoch 27/100\n",
            "12/12 [==============================] - 0s 4ms/step - loss: 0.1928 - accuracy: 0.9318 - val_loss: 0.2148 - val_accuracy: 0.9096\n",
            "Epoch 28/100\n",
            "12/12 [==============================] - 0s 4ms/step - loss: 0.1892 - accuracy: 0.9318 - val_loss: 0.2107 - val_accuracy: 0.9096\n",
            "Epoch 29/100\n",
            "12/12 [==============================] - 0s 4ms/step - loss: 0.1841 - accuracy: 0.9318 - val_loss: 0.2069 - val_accuracy: 0.9096\n",
            "Epoch 30/100\n",
            "12/12 [==============================] - 0s 4ms/step - loss: 0.1807 - accuracy: 0.9370 - val_loss: 0.2033 - val_accuracy: 0.9096\n",
            "Epoch 31/100\n",
            "12/12 [==============================] - 0s 5ms/step - loss: 0.1782 - accuracy: 0.9396 - val_loss: 0.1998 - val_accuracy: 0.9096\n",
            "Epoch 32/100\n",
            "12/12 [==============================] - 0s 4ms/step - loss: 0.1744 - accuracy: 0.9423 - val_loss: 0.1964 - val_accuracy: 0.9096\n",
            "Epoch 33/100\n",
            "12/12 [==============================] - 0s 4ms/step - loss: 0.1717 - accuracy: 0.9423 - val_loss: 0.1933 - val_accuracy: 0.9096\n",
            "Epoch 34/100\n",
            "12/12 [==============================] - 0s 4ms/step - loss: 0.1684 - accuracy: 0.9449 - val_loss: 0.1902 - val_accuracy: 0.9096\n",
            "Epoch 35/100\n",
            "12/12 [==============================] - 0s 5ms/step - loss: 0.1659 - accuracy: 0.9475 - val_loss: 0.1872 - val_accuracy: 0.9096\n",
            "Epoch 36/100\n",
            "12/12 [==============================] - 0s 4ms/step - loss: 0.1629 - accuracy: 0.9501 - val_loss: 0.1846 - val_accuracy: 0.9096\n",
            "Epoch 37/100\n",
            "12/12 [==============================] - 0s 4ms/step - loss: 0.1604 - accuracy: 0.9528 - val_loss: 0.1821 - val_accuracy: 0.9096\n",
            "Epoch 38/100\n",
            "12/12 [==============================] - 0s 4ms/step - loss: 0.1576 - accuracy: 0.9554 - val_loss: 0.1795 - val_accuracy: 0.9096\n",
            "Epoch 39/100\n",
            "12/12 [==============================] - 0s 4ms/step - loss: 0.1553 - accuracy: 0.9554 - val_loss: 0.1771 - val_accuracy: 0.9096\n",
            "Epoch 40/100\n",
            "12/12 [==============================] - 0s 5ms/step - loss: 0.1547 - accuracy: 0.9554 - val_loss: 0.1747 - val_accuracy: 0.9096\n",
            "Epoch 41/100\n",
            "12/12 [==============================] - 0s 4ms/step - loss: 0.1508 - accuracy: 0.9580 - val_loss: 0.1726 - val_accuracy: 0.9096\n",
            "Epoch 42/100\n",
            "12/12 [==============================] - 0s 4ms/step - loss: 0.1495 - accuracy: 0.9606 - val_loss: 0.1704 - val_accuracy: 0.9096\n",
            "Epoch 43/100\n",
            "12/12 [==============================] - 0s 4ms/step - loss: 0.1468 - accuracy: 0.9606 - val_loss: 0.1685 - val_accuracy: 0.9096\n",
            "Epoch 44/100\n",
            "12/12 [==============================] - 0s 4ms/step - loss: 0.1454 - accuracy: 0.9606 - val_loss: 0.1664 - val_accuracy: 0.9096\n",
            "Epoch 45/100\n",
            "12/12 [==============================] - 0s 4ms/step - loss: 0.1435 - accuracy: 0.9606 - val_loss: 0.1645 - val_accuracy: 0.9202\n",
            "Epoch 46/100\n",
            "12/12 [==============================] - 0s 4ms/step - loss: 0.1416 - accuracy: 0.9633 - val_loss: 0.1628 - val_accuracy: 0.9202\n",
            "Epoch 47/100\n",
            "12/12 [==============================] - 0s 4ms/step - loss: 0.1402 - accuracy: 0.9659 - val_loss: 0.1611 - val_accuracy: 0.9202\n",
            "Epoch 48/100\n",
            "12/12 [==============================] - 0s 4ms/step - loss: 0.1381 - accuracy: 0.9659 - val_loss: 0.1593 - val_accuracy: 0.9255\n",
            "Epoch 49/100\n",
            "12/12 [==============================] - 0s 4ms/step - loss: 0.1371 - accuracy: 0.9633 - val_loss: 0.1576 - val_accuracy: 0.9309\n",
            "Epoch 50/100\n",
            "12/12 [==============================] - 0s 4ms/step - loss: 0.1355 - accuracy: 0.9633 - val_loss: 0.1561 - val_accuracy: 0.9309\n",
            "Epoch 51/100\n",
            "12/12 [==============================] - 0s 4ms/step - loss: 0.1333 - accuracy: 0.9633 - val_loss: 0.1547 - val_accuracy: 0.9362\n",
            "Epoch 52/100\n",
            "12/12 [==============================] - 0s 4ms/step - loss: 0.1317 - accuracy: 0.9633 - val_loss: 0.1532 - val_accuracy: 0.9362\n",
            "Epoch 53/100\n",
            "12/12 [==============================] - 0s 5ms/step - loss: 0.1305 - accuracy: 0.9633 - val_loss: 0.1519 - val_accuracy: 0.9468\n",
            "Epoch 54/100\n",
            "12/12 [==============================] - 0s 4ms/step - loss: 0.1293 - accuracy: 0.9633 - val_loss: 0.1505 - val_accuracy: 0.9468\n",
            "Epoch 55/100\n",
            "12/12 [==============================] - 0s 5ms/step - loss: 0.1287 - accuracy: 0.9633 - val_loss: 0.1491 - val_accuracy: 0.9468\n",
            "Epoch 56/100\n",
            "12/12 [==============================] - 0s 5ms/step - loss: 0.1264 - accuracy: 0.9633 - val_loss: 0.1478 - val_accuracy: 0.9468\n",
            "Epoch 57/100\n",
            "12/12 [==============================] - 0s 5ms/step - loss: 0.1259 - accuracy: 0.9685 - val_loss: 0.1467 - val_accuracy: 0.9468\n",
            "Epoch 58/100\n",
            "12/12 [==============================] - 0s 4ms/step - loss: 0.1244 - accuracy: 0.9685 - val_loss: 0.1455 - val_accuracy: 0.9468\n",
            "Epoch 59/100\n",
            "12/12 [==============================] - 0s 5ms/step - loss: 0.1237 - accuracy: 0.9685 - val_loss: 0.1442 - val_accuracy: 0.9468\n",
            "Epoch 60/100\n",
            "12/12 [==============================] - 0s 4ms/step - loss: 0.1221 - accuracy: 0.9685 - val_loss: 0.1432 - val_accuracy: 0.9468\n",
            "Epoch 61/100\n",
            "12/12 [==============================] - 0s 4ms/step - loss: 0.1213 - accuracy: 0.9685 - val_loss: 0.1421 - val_accuracy: 0.9468\n",
            "Epoch 62/100\n",
            "12/12 [==============================] - 0s 4ms/step - loss: 0.1196 - accuracy: 0.9711 - val_loss: 0.1410 - val_accuracy: 0.9468\n",
            "Epoch 63/100\n",
            "12/12 [==============================] - 0s 4ms/step - loss: 0.1187 - accuracy: 0.9738 - val_loss: 0.1401 - val_accuracy: 0.9468\n",
            "Epoch 64/100\n",
            "12/12 [==============================] - 0s 4ms/step - loss: 0.1182 - accuracy: 0.9764 - val_loss: 0.1392 - val_accuracy: 0.9468\n",
            "Epoch 65/100\n",
            "12/12 [==============================] - 0s 4ms/step - loss: 0.1168 - accuracy: 0.9764 - val_loss: 0.1381 - val_accuracy: 0.9468\n",
            "Epoch 66/100\n",
            "12/12 [==============================] - 0s 4ms/step - loss: 0.1160 - accuracy: 0.9764 - val_loss: 0.1372 - val_accuracy: 0.9468\n",
            "Epoch 67/100\n",
            "12/12 [==============================] - 0s 4ms/step - loss: 0.1152 - accuracy: 0.9764 - val_loss: 0.1363 - val_accuracy: 0.9468\n",
            "Epoch 68/100\n",
            "12/12 [==============================] - 0s 5ms/step - loss: 0.1146 - accuracy: 0.9764 - val_loss: 0.1356 - val_accuracy: 0.9468\n",
            "Epoch 69/100\n",
            "12/12 [==============================] - 0s 4ms/step - loss: 0.1139 - accuracy: 0.9764 - val_loss: 0.1346 - val_accuracy: 0.9521\n",
            "Epoch 70/100\n",
            "12/12 [==============================] - 0s 4ms/step - loss: 0.1129 - accuracy: 0.9764 - val_loss: 0.1338 - val_accuracy: 0.9521\n",
            "Epoch 71/100\n",
            "12/12 [==============================] - 0s 4ms/step - loss: 0.1116 - accuracy: 0.9764 - val_loss: 0.1329 - val_accuracy: 0.9574\n",
            "Epoch 72/100\n",
            "12/12 [==============================] - 0s 4ms/step - loss: 0.1108 - accuracy: 0.9764 - val_loss: 0.1321 - val_accuracy: 0.9574\n",
            "Epoch 73/100\n",
            "12/12 [==============================] - 0s 5ms/step - loss: 0.1100 - accuracy: 0.9764 - val_loss: 0.1314 - val_accuracy: 0.9574\n",
            "Epoch 74/100\n",
            "12/12 [==============================] - 0s 4ms/step - loss: 0.1092 - accuracy: 0.9764 - val_loss: 0.1307 - val_accuracy: 0.9574\n",
            "Epoch 75/100\n",
            "12/12 [==============================] - 0s 4ms/step - loss: 0.1084 - accuracy: 0.9764 - val_loss: 0.1300 - val_accuracy: 0.9574\n",
            "Epoch 76/100\n",
            "12/12 [==============================] - 0s 4ms/step - loss: 0.1079 - accuracy: 0.9764 - val_loss: 0.1293 - val_accuracy: 0.9574\n",
            "Epoch 77/100\n",
            "12/12 [==============================] - 0s 5ms/step - loss: 0.1071 - accuracy: 0.9790 - val_loss: 0.1287 - val_accuracy: 0.9574\n",
            "Epoch 78/100\n",
            "12/12 [==============================] - 0s 4ms/step - loss: 0.1064 - accuracy: 0.9790 - val_loss: 0.1280 - val_accuracy: 0.9574\n",
            "Epoch 79/100\n",
            "12/12 [==============================] - 0s 4ms/step - loss: 0.1065 - accuracy: 0.9816 - val_loss: 0.1274 - val_accuracy: 0.9521\n",
            "Epoch 80/100\n",
            "12/12 [==============================] - 0s 5ms/step - loss: 0.1060 - accuracy: 0.9816 - val_loss: 0.1266 - val_accuracy: 0.9521\n",
            "Epoch 81/100\n",
            "12/12 [==============================] - 0s 4ms/step - loss: 0.1047 - accuracy: 0.9816 - val_loss: 0.1261 - val_accuracy: 0.9521\n",
            "Epoch 82/100\n",
            "12/12 [==============================] - 0s 4ms/step - loss: 0.1043 - accuracy: 0.9816 - val_loss: 0.1254 - val_accuracy: 0.9521\n",
            "Epoch 83/100\n",
            "12/12 [==============================] - 0s 5ms/step - loss: 0.1039 - accuracy: 0.9816 - val_loss: 0.1248 - val_accuracy: 0.9521\n",
            "Epoch 84/100\n",
            "12/12 [==============================] - 0s 4ms/step - loss: 0.1032 - accuracy: 0.9816 - val_loss: 0.1243 - val_accuracy: 0.9521\n",
            "Epoch 85/100\n",
            "12/12 [==============================] - 0s 4ms/step - loss: 0.1021 - accuracy: 0.9816 - val_loss: 0.1239 - val_accuracy: 0.9521\n",
            "Epoch 86/100\n",
            "12/12 [==============================] - 0s 4ms/step - loss: 0.1015 - accuracy: 0.9816 - val_loss: 0.1233 - val_accuracy: 0.9521\n",
            "Epoch 87/100\n",
            "12/12 [==============================] - 0s 5ms/step - loss: 0.1014 - accuracy: 0.9816 - val_loss: 0.1227 - val_accuracy: 0.9521\n",
            "Epoch 88/100\n",
            "12/12 [==============================] - 0s 5ms/step - loss: 0.1009 - accuracy: 0.9816 - val_loss: 0.1222 - val_accuracy: 0.9521\n",
            "Epoch 89/100\n",
            "12/12 [==============================] - 0s 4ms/step - loss: 0.1000 - accuracy: 0.9816 - val_loss: 0.1218 - val_accuracy: 0.9521\n",
            "Epoch 90/100\n",
            "12/12 [==============================] - 0s 4ms/step - loss: 0.0998 - accuracy: 0.9816 - val_loss: 0.1212 - val_accuracy: 0.9521\n",
            "Epoch 91/100\n",
            "12/12 [==============================] - 0s 4ms/step - loss: 0.0989 - accuracy: 0.9816 - val_loss: 0.1206 - val_accuracy: 0.9521\n",
            "Epoch 92/100\n",
            "12/12 [==============================] - 0s 4ms/step - loss: 0.0995 - accuracy: 0.9816 - val_loss: 0.1202 - val_accuracy: 0.9521\n",
            "Epoch 93/100\n",
            "12/12 [==============================] - 0s 4ms/step - loss: 0.0977 - accuracy: 0.9816 - val_loss: 0.1197 - val_accuracy: 0.9521\n",
            "Epoch 94/100\n",
            "12/12 [==============================] - 0s 4ms/step - loss: 0.0978 - accuracy: 0.9816 - val_loss: 0.1193 - val_accuracy: 0.9521\n",
            "Epoch 95/100\n",
            "12/12 [==============================] - 0s 4ms/step - loss: 0.0970 - accuracy: 0.9816 - val_loss: 0.1188 - val_accuracy: 0.9521\n",
            "Epoch 96/100\n",
            "12/12 [==============================] - 0s 5ms/step - loss: 0.0968 - accuracy: 0.9816 - val_loss: 0.1184 - val_accuracy: 0.9521\n",
            "Epoch 97/100\n",
            "12/12 [==============================] - 0s 4ms/step - loss: 0.0970 - accuracy: 0.9816 - val_loss: 0.1180 - val_accuracy: 0.9521\n",
            "Epoch 98/100\n",
            "12/12 [==============================] - 0s 4ms/step - loss: 0.0958 - accuracy: 0.9816 - val_loss: 0.1177 - val_accuracy: 0.9521\n",
            "Epoch 99/100\n",
            "12/12 [==============================] - 0s 4ms/step - loss: 0.0957 - accuracy: 0.9816 - val_loss: 0.1171 - val_accuracy: 0.9521\n",
            "Epoch 100/100\n",
            "12/12 [==============================] - 0s 4ms/step - loss: 0.0959 - accuracy: 0.9816 - val_loss: 0.1166 - val_accuracy: 0.9521\n",
            "12/12 [==============================] - 0s 1ms/step - loss: 0.0947 - accuracy: 0.9816\n",
            "Train score: [0.09470062702894211, 0.9816272854804993]\n",
            "6/6 [==============================] - 0s 1ms/step - loss: 0.1166 - accuracy: 0.9521\n",
            "Test score: [0.11664262413978577, 0.9521276354789734]\n"
          ],
          "name": "stdout"
        }
      ]
    },
    {
      "cell_type": "code",
      "metadata": {
        "id": "T2SFiJwQQv7g",
        "colab_type": "code",
        "outputId": "4c6e7b00-0b0a-46a8-fe9c-239fb4b52b8c",
        "colab": {
          "base_uri": "https://localhost:8080/",
          "height": 282
        }
      },
      "source": [
        "import matplotlib.pyplot as plt\n",
        "plt.plot(r.history['loss'], label='loss')\n",
        "plt.plot(r.history['val_loss'], label='val_loss')\n",
        "plt.legend()"
      ],
      "execution_count": 0,
      "outputs": [
        {
          "output_type": "execute_result",
          "data": {
            "text/plain": [
              "<matplotlib.legend.Legend at 0x7efbd4439940>"
            ]
          },
          "metadata": {
            "tags": []
          },
          "execution_count": 26
        },
        {
          "output_type": "display_data",
          "data": {
            "image/png": "[encoded data removed]",
            "text/plain": [
              "<Figure size 432x288 with 1 Axes>"
            ]
          },
          "metadata": {
            "tags": [],
            "needs_background": "light"
          }
        }
      ]
    },
    {
      "cell_type": "code",
      "metadata": {
        "id": "gSHy7SUfRPfE",
        "colab_type": "code",
        "outputId": "069dcf29-94ff-4d34-8b1e-b18f49e2e0af",
        "colab": {
          "base_uri": "https://localhost:8080/",
          "height": 282
        }
      },
      "source": [
        "plt.plot(r.history['accuracy'], label='accuracy')\n",
        "plt.plot(r.history['val_accuracy'], label='val_accuracy')\n",
        "plt.legend()"
      ],
      "execution_count": 0,
      "outputs": [
        {
          "output_type": "execute_result",
          "data": {
            "text/plain": [
              "<matplotlib.legend.Legend at 0x7efbd43685f8>"
            ]
          },
          "metadata": {
            "tags": []
          },
          "execution_count": 31
        },
        {
          "output_type": "display_data",
          "data": {
            "image/png": "[encoded data removed]",
            "text/plain": [
              "<Figure size 432x288 with 1 Axes>"
            ]
          },
          "metadata": {
            "tags": [],
            "needs_background": "light"
          }
        }
      ]
    },
    {
      "cell_type": "markdown",
      "metadata": {
        "id": "WausM1usSFKD",
        "colab_type": "text"
      },
      "source": [
        "Part-2: Making Prediction\n"
      ]
    },
    {
      "cell_type": "code",
      "metadata": {
        "id": "3vW6ktkmSJpJ",
        "colab_type": "code",
        "outputId": "08d46f63-865d-4369-94e2-12505908bf9c",
        "colab": {
          "base_uri": "https://localhost:8080/",
          "height": 1000
        }
      },
      "source": [
        "P=model.predict(X_test)\n",
        "print(P)"
      ],
      "execution_count": 0,
      "outputs": [
        {
          "output_type": "stream",
          "text": [
            "[[9.97712433e-01]\n",
            " [1.45345926e-04]\n",
            " [3.22316885e-02]\n",
            " [8.95488858e-01]\n",
            " [2.77296066e-01]\n",
            " [9.98270392e-01]\n",
            " [9.98001456e-01]\n",
            " [1.16690993e-03]\n",
            " [5.09053469e-04]\n",
            " [9.35366452e-01]\n",
            " [9.99162674e-01]\n",
            " [9.80670393e-01]\n",
            " [9.56775693e-06]\n",
            " [4.34193611e-02]\n",
            " [9.47094083e-01]\n",
            " [6.39332831e-02]\n",
            " [9.88186002e-01]\n",
            " [9.96151567e-01]\n",
            " [9.41487193e-01]\n",
            " [9.56528664e-01]\n",
            " [5.85255623e-01]\n",
            " [3.39646757e-01]\n",
            " [9.98543978e-01]\n",
            " [3.38449513e-06]\n",
            " [1.63270175e-01]\n",
            " [9.75936115e-01]\n",
            " [9.34425771e-01]\n",
            " [4.99565976e-05]\n",
            " [5.63814640e-01]\n",
            " [9.37336564e-01]\n",
            " [9.97469246e-01]\n",
            " [5.68332255e-01]\n",
            " [9.95989442e-01]\n",
            " [9.96611416e-01]\n",
            " [1.31338835e-04]\n",
            " [9.99293983e-01]\n",
            " [9.71874714e-01]\n",
            " [9.91153717e-01]\n",
            " [9.52805758e-01]\n",
            " [9.95838642e-01]\n",
            " [9.93152440e-01]\n",
            " [5.71874082e-02]\n",
            " [1.97571516e-03]\n",
            " [9.94375825e-01]\n",
            " [9.94696379e-01]\n",
            " [9.95519757e-01]\n",
            " [4.91236389e-01]\n",
            " [9.48912740e-01]\n",
            " [9.93946195e-01]\n",
            " [9.98901248e-01]\n",
            " [3.55142355e-03]\n",
            " [8.31259370e-01]\n",
            " [9.87930417e-01]\n",
            " [9.79248881e-01]\n",
            " [1.20681524e-03]\n",
            " [5.29610952e-05]\n",
            " [9.96173203e-01]\n",
            " [9.85173166e-01]\n",
            " [6.61443591e-01]\n",
            " [7.41758922e-05]\n",
            " [1.78888567e-05]\n",
            " [2.00395286e-01]\n",
            " [9.76309299e-01]\n",
            " [9.99945164e-01]\n",
            " [9.94301677e-01]\n",
            " [9.65240955e-01]\n",
            " [9.90083337e-01]\n",
            " [1.70022249e-04]\n",
            " [8.51584375e-01]\n",
            " [3.45027447e-01]\n",
            " [9.91312146e-01]\n",
            " [8.13260198e-01]\n",
            " [8.22768470e-06]\n",
            " [9.94925380e-01]\n",
            " [2.29553282e-02]\n",
            " [2.86855280e-01]\n",
            " [8.04919064e-01]\n",
            " [1.90843046e-02]\n",
            " [3.32380056e-01]\n",
            " [9.99342799e-01]\n",
            " [8.04008245e-01]\n",
            " [2.24462152e-03]\n",
            " [9.93178368e-01]\n",
            " [1.93164498e-01]\n",
            " [1.53842688e-01]\n",
            " [8.15282822e-01]\n",
            " [9.93689418e-01]\n",
            " [9.98765230e-01]\n",
            " [9.98646915e-01]\n",
            " [9.94089663e-01]\n",
            " [9.11763310e-01]\n",
            " [9.93047357e-01]\n",
            " [4.46677566e-01]\n",
            " [9.57794845e-01]\n",
            " [9.98023510e-01]\n",
            " [1.29178166e-03]\n",
            " [3.48210335e-04]\n",
            " [9.82182741e-01]\n",
            " [2.91791912e-05]\n",
            " [5.81872940e-01]\n",
            " [7.41778016e-01]\n",
            " [9.72476363e-01]\n",
            " [9.99183536e-01]\n",
            " [9.86010015e-01]\n",
            " [9.95625436e-01]\n",
            " [9.45096016e-01]\n",
            " [9.86941695e-01]\n",
            " [9.89051223e-01]\n",
            " [9.97464299e-01]\n",
            " [9.68824983e-01]\n",
            " [2.38587558e-02]\n",
            " [9.83401775e-01]\n",
            " [9.33465004e-01]\n",
            " [9.61362362e-01]\n",
            " [2.34089255e-01]\n",
            " [9.95828152e-01]\n",
            " [1.77768767e-02]\n",
            " [5.32358885e-04]\n",
            " [1.94988251e-02]\n",
            " [8.46974492e-01]\n",
            " [2.56096601e-01]\n",
            " [9.97288227e-01]\n",
            " [9.76483761e-07]\n",
            " [9.97012854e-01]\n",
            " [9.88811195e-01]\n",
            " [9.98710573e-01]\n",
            " [2.89860368e-03]\n",
            " [1.09836868e-08]\n",
            " [9.98780847e-01]\n",
            " [9.98955488e-01]\n",
            " [9.99353170e-01]\n",
            " [9.78633580e-07]\n",
            " [1.35525465e-02]\n",
            " [1.36271417e-02]\n",
            " [8.93109620e-01]\n",
            " [9.96185422e-01]\n",
            " [8.58312428e-01]\n",
            " [9.92897809e-01]\n",
            " [5.80988228e-02]\n",
            " [9.90700483e-01]\n",
            " [2.39679217e-03]\n",
            " [2.79726088e-02]\n",
            " [9.73387837e-01]\n",
            " [9.94558454e-01]\n",
            " [6.25578105e-01]\n",
            " [5.31882286e-01]\n",
            " [4.95649874e-02]\n",
            " [9.88766789e-01]\n",
            " [2.87872553e-02]\n",
            " [1.95980072e-04]\n",
            " [8.43494296e-01]\n",
            " [9.88627791e-01]\n",
            " [9.97249603e-01]\n",
            " [5.99235296e-04]\n",
            " [1.01403594e-02]\n",
            " [8.71924400e-01]\n",
            " [6.84264302e-03]\n",
            " [9.92486954e-01]\n",
            " [9.47671771e-01]\n",
            " [1.58156157e-02]\n",
            " [9.10435379e-01]\n",
            " [8.52465987e-01]\n",
            " [3.21465559e-05]\n",
            " [9.74935412e-01]\n",
            " [9.60114956e-01]\n",
            " [2.18886375e-01]\n",
            " [3.96669924e-01]\n",
            " [1.05994821e-01]\n",
            " [4.28467989e-04]\n",
            " [6.09541275e-05]\n",
            " [7.63305068e-01]\n",
            " [3.42176318e-01]\n",
            " [9.98724699e-01]\n",
            " [1.31509125e-01]\n",
            " [9.97163296e-01]\n",
            " [8.48662921e-07]\n",
            " [9.84242320e-01]\n",
            " [9.77958083e-01]\n",
            " [9.99068260e-01]\n",
            " [9.71922576e-01]\n",
            " [1.83979839e-01]\n",
            " [8.23903084e-03]\n",
            " [6.19474974e-07]\n",
            " [2.70514786e-02]\n",
            " [3.07945311e-01]\n",
            " [6.83683932e-01]\n",
            " [9.87747431e-01]\n",
            " [9.84046161e-01]]\n"
          ],
          "name": "stdout"
        }
      ]
    },
    {
      "cell_type": "code",
      "metadata": {
        "id": "pjbDeAPISkuP",
        "colab_type": "code",
        "outputId": "5bd96554-959a-46a6-84e0-725c2fc746b7",
        "colab": {
          "base_uri": "https://localhost:8080/",
          "height": 153
        }
      },
      "source": [
        "# Round to get the actual predictions\n",
        "# Note: has to be flattened since the targets are size (N,) while the predictions are size (N,1)\n",
        "import numpy as np\n",
        "P = np.round(P).flatten()\n",
        "print(P)"
      ],
      "execution_count": 0,
      "outputs": [
        {
          "output_type": "stream",
          "text": [
            "[1. 0. 0. 1. 0. 1. 1. 0. 0. 1. 1. 1. 0. 0. 1. 0. 1. 1. 1. 1. 1. 0. 1. 0.\n",
            " 0. 1. 1. 0. 1. 1. 1. 1. 1. 1. 0. 1. 1. 1. 1. 1. 1. 0. 0. 1. 1. 1. 0. 1.\n",
            " 1. 1. 0. 1. 1. 1. 0. 0. 1. 1. 1. 0. 0. 0. 1. 1. 1. 1. 1. 0. 1. 0. 1. 1.\n",
            " 0. 1. 0. 0. 1. 0. 0. 1. 1. 0. 1. 0. 0. 1. 1. 1. 1. 1. 1. 1. 0. 1. 1. 0.\n",
            " 0. 1. 0. 1. 1. 1. 1. 1. 1. 1. 1. 1. 1. 1. 0. 1. 1. 1. 0. 1. 0. 0. 0. 1.\n",
            " 0. 1. 0. 1. 1. 1. 0. 0. 1. 1. 1. 0. 0. 0. 1. 1. 1. 1. 0. 1. 0. 0. 1. 1.\n",
            " 1. 1. 0. 1. 0. 0. 1. 1. 1. 0. 0. 1. 0. 1. 1. 0. 1. 1. 0. 1. 1. 0. 0. 0.\n",
            " 0. 0. 1. 0. 1. 0. 1. 0. 1. 1. 1. 1. 0. 0. 0. 0. 0. 1. 1. 1.]\n"
          ],
          "name": "stdout"
        }
      ]
    },
    {
      "cell_type": "code",
      "metadata": {
        "id": "kkDnms60SwxK",
        "colab_type": "code",
        "outputId": "2e85ab25-bfe8-4c86-e3f4-99e9009586af",
        "colab": {
          "base_uri": "https://localhost:8080/",
          "height": 68
        }
      },
      "source": [
        "# Calculate the accuracy, compare it to evaluate() output\n",
        "print(\"Manually calculated accuracy:\", np.mean(P == y_test))\n",
        "print(\"Evaluate output:\", model.evaluate(X_test, y_test))"
      ],
      "execution_count": 0,
      "outputs": [
        {
          "output_type": "stream",
          "text": [
            "Manually calculated accuracy: 0.9521276595744681\n",
            "6/6 [==============================] - 0s 1ms/step - loss: 0.1166 - accuracy: 0.9521\n",
            "Evaluate output: [0.11664262413978577, 0.9521276354789734]\n"
          ],
          "name": "stdout"
        }
      ]
    },
    {
      "cell_type": "markdown",
      "metadata": {
        "id": "yZrcn8avTdfv",
        "colab_type": "text"
      },
      "source": [
        "part 3: saving and load model\n"
      ]
    },
    {
      "cell_type": "code",
      "metadata": {
        "id": "Lnuq24RjTikF",
        "colab_type": "code",
        "colab": {}
      },
      "source": [
        "# Let's now save our model to a file\n",
        "model.save('linearclassifier.h5')"
      ],
      "execution_count": 0,
      "outputs": []
    },
    {
      "cell_type": "code",
      "metadata": {
        "id": "c6c7Jno5T-0_",
        "colab_type": "code",
        "outputId": "1535eae7-fa1b-49b4-b301-d937c2b3282a",
        "colab": {
          "base_uri": "https://localhost:8080/",
          "height": 68
        }
      },
      "source": [
        "# Check that the model file exists\n",
        "!ls -lh "
      ],
      "execution_count": 0,
      "outputs": [
        {
          "output_type": "stream",
          "text": [
            "total 24K\n",
            "-rw-r--r-- 1 root root  19K Apr 29 19:00 linearclassifier.h5\n",
            "drwxr-xr-x 1 root root 4.0K Apr  3 16:24 sample_data\n"
          ],
          "name": "stdout"
        }
      ]
    },
    {
      "cell_type": "code",
      "metadata": {
        "id": "q70X4OH4URo1",
        "colab_type": "code",
        "outputId": "f8eb0240-cca9-41a5-d850-4b02f723277f",
        "colab": {
          "base_uri": "https://localhost:8080/",
          "height": 68
        }
      },
      "source": [
        "# Let's load the model and confirm that it still works\n",
        "# Note: there is a bug in Keras where load/save only works if you DON'T use the Input() layer explicitly\n",
        "# So, make sure you define the model with ONLY Dense(1, input_shape=(D,))\n",
        "# At least, until the bug is fixed\n",
        "# https://github.com/keras-team/keras/issues/10417\n",
        "model = tf.keras.models.load_model('linearclassifier.h5')\n",
        "print(model.layers)\n",
        "model.evaluate(X_test, y_test)"
      ],
      "execution_count": 0,
      "outputs": [
        {
          "output_type": "stream",
          "text": [
            "[<tensorflow.python.keras.layers.core.Dense object at 0x7efbd446bb70>]\n",
            "6/6 [==============================] - 0s 1ms/step - loss: 0.1166 - accuracy: 0.9521\n"
          ],
          "name": "stdout"
        },
        {
          "output_type": "execute_result",
          "data": {
            "text/plain": [
              "[0.11664262413978577, 0.9521276354789734]"
            ]
          },
          "metadata": {
            "tags": []
          },
          "execution_count": 38
        }
      ]
    }
  ]
}